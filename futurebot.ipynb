{
 "cells": [
  {
   "cell_type": "code",
   "execution_count": 11,
   "metadata": {},
   "outputs": [],
   "source": [
    "import pandas as pd\n",
    "import numpy as np\n",
    "import time\n",
    "import ccxt\n",
    "from threading import Thread"
   ]
  },
  {
   "cell_type": "code",
   "execution_count": 12,
   "metadata": {},
   "outputs": [
    {
     "data": {
      "text/plain": [
       "ccxt.binance()"
      ]
     },
     "execution_count": 12,
     "metadata": {},
     "output_type": "execute_result"
    }
   ],
   "source": [
    "\n",
    "exchange = ccxt.binance()\n",
    "exchange"
   ]
  },
  {
   "cell_type": "code",
   "execution_count": 13,
   "metadata": {},
   "outputs": [],
   "source": [
    "class CCXTFuturesTrader(): \n",
    "    \n",
    "    def __init__(self, symbol, bar_length, return_thresh, volume_thresh,\n",
    "                 units, position = 0, leverage = 5, sandbox = True):\n",
    "        \n",
    "        exchange.set_sandbox_mode(sandbox)\n",
    "        \n",
    "        self.symbol = symbol\n",
    "        self.bar_length = bar_length\n",
    "        self.get_available_intervals()\n",
    "        self.units = units\n",
    "        self.position = position\n",
    "        self.leverage = leverage\n",
    "        self.cum_profits = 0\n",
    "        \n",
    "       \n",
    "        self.return_thresh = return_thresh\n",
    "        self.volume_thresh = volume_thresh\n",
    "       \n",
    "    \n",
    "    def get_available_intervals(self):\n",
    "        \n",
    "        l = []\n",
    "        for key, value in exchange.timeframes.items():\n",
    "            l.append(key)\n",
    "        self.available_intervals = l\n",
    "    \n",
    "    def start_trading(self, start = None, hist_bars = None):\n",
    "        \n",
    "        if not hist_bars:\n",
    "            hist_bars = 1000\n",
    "        \n",
    "        exchange.set_leverage(leverage = self.leverage, symbol = self.symbol)\n",
    "        \n",
    "        if self.bar_length in self.available_intervals:\n",
    "            self.get_most_recent(symbol = self.symbol, interval = self.bar_length,\n",
    "                                 start = start, limit = hist_bars)\n",
    "            thread = Thread(target = self.start_kline_stream, args = (self.stream_candles, self.symbol, self.bar_length))\n",
    "            thread.start()\n",
    "            \n",
    "       \n",
    "    \n",
    "    def get_most_recent(self, symbol, interval, start, limit):\n",
    "        \n",
    "        if start:\n",
    "            start = exchange.parse8601(start)\n",
    "    \n",
    "        data = exchange.fetchOHLCV(symbol = symbol, timeframe = interval, since = start, limit = limit)\n",
    "        last_bar_actual = data[-1][0]\n",
    "    \n",
    "        last_bar_target = exchange.fetchOHLCV(symbol = symbol, timeframe = interval, limit = 2)[-1][0]\n",
    "    \n",
    "        while last_bar_target != last_bar_actual:\n",
    "        \n",
    "            time.sleep(0.1)\n",
    "            data_add = exchange.fetchOHLCV(symbol = symbol, timeframe = interval, since = last_bar_actual, limit = limit)\n",
    "            data += data_add[1:]\n",
    "            last_bar_actual = data[-1][0]\n",
    "            last_bar_target = exchange.fetchOHLCV(symbol = symbol, timeframe = interval, limit = 2)[-1][0]      \n",
    "    \n",
    "        df = pd.DataFrame(data)\n",
    "        df.columns = [\"Date\", \"Open\", \"High\", \"Low\", \"Close\", \"Volume\"]\n",
    "        df.Date = pd.to_datetime(df.Date, unit = \"ms\")\n",
    "        df.set_index(\"Date\", inplace = True)\n",
    "        df[\"Complete\"] = [True for row in range(len(df)-1)] + [False]\n",
    "        self.last_bar = df.index[-1]\n",
    "\n",
    "        self.data = df\n",
    "        \n",
    "    def stream_candles(self, msg):\n",
    "        \n",
    "        start_time = pd.to_datetime(msg[-1][0], unit = \"ms\")\n",
    "        first = msg[-1][1]\n",
    "        high = msg[-1][2]\n",
    "        low = msg[-1][3]\n",
    "        close  = msg[-1][4]\n",
    "        volume = msg[-1][5]\n",
    "        \n",
    "        if start_time < self.last_bar:\n",
    "            pass\n",
    "            \n",
    "        else:\n",
    "            if start_time == self.last_bar:\n",
    "                complete = False\n",
    "            elif start_time > self.last_bar:\n",
    "                complete = True\n",
    "                if len(msg) == 2:\n",
    "                    self.data.loc[self.last_bar] = [msg[0][1], msg[0][2], msg[0][3], msg[0][4], msg[0][5], complete]\n",
    "                else:\n",
    "                    self.data.loc[self.last_bar, \"Complete\"] = complete\n",
    "                self.last_bar = start_time\n",
    "            \n",
    "           \n",
    "            print(\".\", end = \"\", flush = True)\n",
    "        \n",
    "        \n",
    "            self.data.loc[start_time] = [first, high, low, close, volume, False]\n",
    "            if complete == True:\n",
    "                self.define_strategy()\n",
    "                self.execute_trades()\n",
    "    \n",
    "    def start_kline_stream(self, callback, symbol, interval):\n",
    "    \n",
    "        self.running = True\n",
    "    \n",
    "        while self.running == True:\n",
    "            msg = exchange.fetchOHLCV(symbol = symbol, timeframe = interval, limit = 2)\n",
    "        \n",
    "            if len(msg) == 0:\n",
    "                print(\"No data received\")\n",
    "            else:\n",
    "                callback(msg)\n",
    "    \n",
    "            time.sleep(1)\n",
    "    \n",
    "    def stop_stream(self):\n",
    "        self.running = False     \n",
    "         \n",
    "    def define_strategy(self):\n",
    "        \n",
    "        df = self.data.loc[self.data.Complete == True].copy()\n",
    "        df = df[[\"Close\", \"Volume\"]].copy()\n",
    "        df[\"returns\"] = np.log(df.Close / df.Close.shift())\n",
    "        df[\"vol_ch\"] = np.log(df.Volume.div(df.Volume.shift(1)))\n",
    "        df.loc[df.vol_ch > 3, \"vol_ch\"] = np.nan\n",
    "        df.loc[df.vol_ch < -3, \"vol_ch\"] = np.nan  \n",
    "        \n",
    "        cond1 = df.returns <= self.return_thresh[0]\n",
    "        cond2 = df.vol_ch.between(self.volume_thresh[0], self.volume_thresh[1])\n",
    "        cond3 = df.returns >= self.return_thresh[1]\n",
    "        \n",
    "        df[\"position\"] = 0\n",
    "        df.loc[cond1 & cond2, \"position\"] = 1\n",
    "        df.loc[cond3 & cond2, \"position\"] = -1\n",
    "       \n",
    "        self.prepared_data = df.copy()\n",
    "    \n",
    "    def execute_trades(self): \n",
    "        if self.prepared_data[\"position\"].iloc[-1] == 1: # if position is long -> go/stay long\n",
    "            if self.position == 0:\n",
    "                order = exchange.createMarketOrder(symbol = self.symbol, side = \"BUY\", amount = self.units)\n",
    "                self.report_trade(order, \"GOING LONG\")  \n",
    "            elif self.position == -1:\n",
    "                order = exchange.createMarketOrder(symbol = self.symbol, side = \"BUY\", amount = 2 * self.units)\n",
    "                self.report_trade(order, \"GOING LONG\")\n",
    "            self.position = 1\n",
    "        elif self.prepared_data[\"position\"].iloc[-1] == 0: # if position is neutral -> go/stay neutral\n",
    "            if self.position == 1:\n",
    "                order = exchange.createMarketOrder(symbol = self.symbol, side = \"SELL\", amount = self.units)\n",
    "                self.report_trade(order, \"GOING NEUTRAL\") \n",
    "            elif self.position == -1:\n",
    "                order = exchange.createMarketOrder(symbol = self.symbol, side = \"BUY\", amount = self.units)\n",
    "                self.report_trade(order, \"GOING NEUTRAL\")\n",
    "            self.position = 0\n",
    "        if self.prepared_data[\"position\"].iloc[-1] == -1: # if position is short -> go/stay short\n",
    "            if self.position == 0:\n",
    "                order = exchange.createMarketOrder(symbol = self.symbol, side = \"SELL\", amount = self.units)\n",
    "                self.report_trade(order, \"GOING SHORT\") \n",
    "            elif self.position == 1:\n",
    "                order = exchange.createMarketOrder(symbol = self.symbol, side = \"SELL\", amount = 2 * self.units)\n",
    "                self.report_trade(order, \"GOING SHORT\")\n",
    "            self.position = -1\n",
    "    \n",
    "    def report_trade(self, order, going): \n",
    "        \n",
    "        time.sleep(0.1)\n",
    "        order_time = int(order[\"info\"][\"updateTime\"])\n",
    "        trades = exchange.fetchMyTrades(symbol = self.symbol, since = order_time)\n",
    "        order_time = pd.to_datetime(order_time, unit = \"ms\")\n",
    "        \n",
    "       \n",
    "        df = pd.json_normalize(trades)\n",
    "        columns = [\"amount\", \"cost\", \"info.commission\",\"info.realizedPnl\"]\n",
    "        for column in columns:\n",
    "            df[column] = pd.to_numeric(df[column], errors = \"coerce\")\n",
    "        base_units = round(df[\"amount\"].sum(), 5)\n",
    "        quote_units = round(df[\"cost\"].sum(), 5)\n",
    "        commission = -round(df[\"info.commission\"].sum(), 5)\n",
    "        real_profit = round(df[\"info.realizedPnl\"].sum(), 5)\n",
    "        price = round(quote_units / base_units, 5)\n",
    "        \n",
    "    \n",
    "        self.cum_profits += round((commission + real_profit), 5)\n",
    "        \n",
    "        print(2 * \"\\n\" + 100* \"-\")\n",
    "        print(\"{} | {}\".format(order_time, going)) \n",
    "        print(\"{} | Base_Units = {} | Quote_Units = {} | Price = {} \".format(order_time, base_units, quote_units, price))\n",
    "        print(\"{} | Profit = {} | CumProfits = {} \".format(order_time, real_profit, self.cum_profits))\n",
    "        print(100 * \"-\" + \"\\n\")"
   ]
  },
  {
   "cell_type": "code",
   "execution_count": 14,
   "metadata": {},
   "outputs": [],
   "source": [
    "api_key = \"f292676b40a6678d07e5693490e27730269394a447def962459564aa187f003a\"\n",
    "secret_key = \"5b0d1ab790adec74a936873b2a3327e11b4987c9b6ad94e0fbe397f93ee0120f\"#put your api key and secret key of testnet"
   ]
  },
  {
   "cell_type": "code",
   "execution_count": 15,
   "metadata": {},
   "outputs": [],
   "source": [
    "exchange.apiKey = api_key\n",
    "exchange.secret = secret_key"
   ]
  },
  {
   "cell_type": "code",
   "execution_count": 16,
   "metadata": {},
   "outputs": [],
   "source": [
    "symbol = \"BTC/USDT\"\n",
    "bar_length = \"1m\"\n",
    "return_thresh = [-0.0001, 0.0001]\n",
    "volume_thresh = [-3, 3]\n",
    "units = 0.01\n",
    "position = 0\n",
    "leverage = 5\n",
    "sandbox = True"
   ]
  },
  {
   "cell_type": "code",
   "execution_count": 17,
   "metadata": {},
   "outputs": [],
   "source": [
    "trader = CCXTFuturesTrader(symbol = symbol, bar_length = bar_length, return_thresh = return_thresh,\n",
    "                           volume_thresh = volume_thresh, units = units, position = position,\n",
    "                           leverage = leverage, sandbox = sandbox)"
   ]
  },
  {
   "cell_type": "code",
   "execution_count": 18,
   "metadata": {},
   "outputs": [
    {
     "ename": "AuthenticationError",
     "evalue": "binance {\"code\":-2015,\"msg\":\"Invalid API-key, IP, or permissions for action.\"}",
     "output_type": "error",
     "traceback": [
      "\u001b[1;31m---------------------------------------------------------------------------\u001b[0m",
      "\u001b[1;31mHTTPError\u001b[0m                                 Traceback (most recent call last)",
      "File \u001b[1;32mc:\\Users\\prama\\Desktop\\tradingbot\\.conda\\lib\\site-packages\\ccxt\\base\\exchange.py:600\u001b[0m, in \u001b[0;36mExchange.fetch\u001b[1;34m(self, url, method, headers, body)\u001b[0m\n\u001b[0;32m    599\u001b[0m     \u001b[39mself\u001b[39m\u001b[39m.\u001b[39mlogger\u001b[39m.\u001b[39mdebug(\u001b[39m\"\u001b[39m\u001b[39m%s\u001b[39;00m\u001b[39m \u001b[39m\u001b[39m%s\u001b[39;00m\u001b[39m, Response: \u001b[39m\u001b[39m%s\u001b[39;00m\u001b[39m \u001b[39m\u001b[39m%s\u001b[39;00m\u001b[39m \u001b[39m\u001b[39m%s\u001b[39;00m\u001b[39m\"\u001b[39m, method, url, http_status_code, headers, http_response)\n\u001b[1;32m--> 600\u001b[0m     response\u001b[39m.\u001b[39;49mraise_for_status()\n\u001b[0;32m    602\u001b[0m \u001b[39mexcept\u001b[39;00m Timeout \u001b[39mas\u001b[39;00m e:\n",
      "File \u001b[1;32mc:\\Users\\prama\\Desktop\\tradingbot\\.conda\\lib\\site-packages\\requests\\models.py:1021\u001b[0m, in \u001b[0;36mResponse.raise_for_status\u001b[1;34m(self)\u001b[0m\n\u001b[0;32m   1020\u001b[0m \u001b[39mif\u001b[39;00m http_error_msg:\n\u001b[1;32m-> 1021\u001b[0m     \u001b[39mraise\u001b[39;00m HTTPError(http_error_msg, response\u001b[39m=\u001b[39m\u001b[39mself\u001b[39m)\n",
      "\u001b[1;31mHTTPError\u001b[0m: 401 Client Error: Unauthorized for url: https://testnet.binance.vision/api/v3/account?timestamp=1690796725153&recvWindow=10000&signature=032b12af5acd6100575c45718e7609da2e6eccfcb7ff61a8bf41316c5f4f6c80",
      "\nDuring handling of the above exception, another exception occurred:\n",
      "\u001b[1;31mAuthenticationError\u001b[0m                       Traceback (most recent call last)",
      "Cell \u001b[1;32mIn[18], line 1\u001b[0m\n\u001b[1;32m----> 1\u001b[0m exchange\u001b[39m.\u001b[39;49mfetchBalance()[\u001b[39m\"\u001b[39m\u001b[39minfo\u001b[39m\u001b[39m\"\u001b[39m][\u001b[39m\"\u001b[39m\u001b[39massets\u001b[39m\u001b[39m\"\u001b[39m]\n",
      "File \u001b[1;32mc:\\Users\\prama\\Desktop\\tradingbot\\.conda\\lib\\site-packages\\ccxt\\binance.py:2465\u001b[0m, in \u001b[0;36mbinance.fetch_balance\u001b[1;34m(self, params)\u001b[0m\n\u001b[0;32m   2463\u001b[0m     method \u001b[39m=\u001b[39m \u001b[39m'\u001b[39m\u001b[39msapiPostAssetGetFundingAsset\u001b[39m\u001b[39m'\u001b[39m\n\u001b[0;32m   2464\u001b[0m requestParams \u001b[39m=\u001b[39m \u001b[39mself\u001b[39m\u001b[39m.\u001b[39momit(query, [\u001b[39m'\u001b[39m\u001b[39mtype\u001b[39m\u001b[39m'\u001b[39m, \u001b[39m'\u001b[39m\u001b[39msymbols\u001b[39m\u001b[39m'\u001b[39m])\n\u001b[1;32m-> 2465\u001b[0m response \u001b[39m=\u001b[39m \u001b[39mgetattr\u001b[39;49m(\u001b[39mself\u001b[39;49m, method)(\u001b[39mself\u001b[39;49m\u001b[39m.\u001b[39;49mextend(request, requestParams))\n\u001b[0;32m   2466\u001b[0m \u001b[39m#\u001b[39;00m\n\u001b[0;32m   2467\u001b[0m \u001b[39m# spot\u001b[39;00m\n\u001b[0;32m   2468\u001b[0m \u001b[39m#\u001b[39;00m\n\u001b[1;32m   (...)\u001b[0m\n\u001b[0;32m   2649\u001b[0m \u001b[39m#     ]\u001b[39;00m\n\u001b[0;32m   2650\u001b[0m \u001b[39m#\u001b[39;00m\n\u001b[0;32m   2651\u001b[0m \u001b[39mreturn\u001b[39;00m \u001b[39mself\u001b[39m\u001b[39m.\u001b[39mparse_balance(response, \u001b[39mtype\u001b[39m, marginMode)\n",
      "File \u001b[1;32mc:\\Users\\prama\\Desktop\\tradingbot\\.conda\\lib\\site-packages\\ccxt\\base\\types.py:26\u001b[0m, in \u001b[0;36mEntry.__init__.<locals>.unbound_method\u001b[1;34m(_self, params)\u001b[0m\n\u001b[0;32m     25\u001b[0m \u001b[39mdef\u001b[39;00m \u001b[39munbound_method\u001b[39m(_self, params\u001b[39m=\u001b[39m{}):\n\u001b[1;32m---> 26\u001b[0m     \u001b[39mreturn\u001b[39;00m _self\u001b[39m.\u001b[39;49mrequest(\u001b[39mself\u001b[39;49m\u001b[39m.\u001b[39;49mpath, \u001b[39mself\u001b[39;49m\u001b[39m.\u001b[39;49mapi, \u001b[39mself\u001b[39;49m\u001b[39m.\u001b[39;49mmethod, params, config\u001b[39m=\u001b[39;49m\u001b[39mself\u001b[39;49m\u001b[39m.\u001b[39;49mconfig)\n",
      "File \u001b[1;32mc:\\Users\\prama\\Desktop\\tradingbot\\.conda\\lib\\site-packages\\ccxt\\binance.py:7475\u001b[0m, in \u001b[0;36mbinance.request\u001b[1;34m(self, path, api, method, params, headers, body, config, context)\u001b[0m\n\u001b[0;32m   7474\u001b[0m \u001b[39mdef\u001b[39;00m \u001b[39mrequest\u001b[39m(\u001b[39mself\u001b[39m, path, api\u001b[39m=\u001b[39m\u001b[39m'\u001b[39m\u001b[39mpublic\u001b[39m\u001b[39m'\u001b[39m, method\u001b[39m=\u001b[39m\u001b[39m'\u001b[39m\u001b[39mGET\u001b[39m\u001b[39m'\u001b[39m, params\u001b[39m=\u001b[39m{}, headers\u001b[39m=\u001b[39m\u001b[39mNone\u001b[39;00m, body\u001b[39m=\u001b[39m\u001b[39mNone\u001b[39;00m, config\u001b[39m=\u001b[39m{}, context\u001b[39m=\u001b[39m{}):\n\u001b[1;32m-> 7475\u001b[0m     response \u001b[39m=\u001b[39m \u001b[39mself\u001b[39;49m\u001b[39m.\u001b[39;49mfetch2(path, api, method, params, headers, body, config)\n\u001b[0;32m   7476\u001b[0m     \u001b[39m# a workaround for {\"code\":-2015,\"msg\":\"Invalid API-key, IP, or permissions for action.\"}\u001b[39;00m\n\u001b[0;32m   7477\u001b[0m     \u001b[39mif\u001b[39;00m (api \u001b[39m==\u001b[39m \u001b[39m'\u001b[39m\u001b[39mprivate\u001b[39m\u001b[39m'\u001b[39m) \u001b[39mor\u001b[39;00m (api \u001b[39m==\u001b[39m \u001b[39m'\u001b[39m\u001b[39mwapi\u001b[39m\u001b[39m'\u001b[39m):\n",
      "File \u001b[1;32mc:\\Users\\prama\\Desktop\\tradingbot\\.conda\\lib\\site-packages\\ccxt\\base\\exchange.py:2991\u001b[0m, in \u001b[0;36mExchange.fetch2\u001b[1;34m(self, path, api, method, params, headers, body, config)\u001b[0m\n\u001b[0;32m   2989\u001b[0m \u001b[39mself\u001b[39m\u001b[39m.\u001b[39mlastRestRequestTimestamp \u001b[39m=\u001b[39m \u001b[39mself\u001b[39m\u001b[39m.\u001b[39mmilliseconds()\n\u001b[0;32m   2990\u001b[0m request \u001b[39m=\u001b[39m \u001b[39mself\u001b[39m\u001b[39m.\u001b[39msign(path, api, method, params, headers, body)\n\u001b[1;32m-> 2991\u001b[0m \u001b[39mreturn\u001b[39;00m \u001b[39mself\u001b[39;49m\u001b[39m.\u001b[39;49mfetch(request[\u001b[39m'\u001b[39;49m\u001b[39murl\u001b[39;49m\u001b[39m'\u001b[39;49m], request[\u001b[39m'\u001b[39;49m\u001b[39mmethod\u001b[39;49m\u001b[39m'\u001b[39;49m], request[\u001b[39m'\u001b[39;49m\u001b[39mheaders\u001b[39;49m\u001b[39m'\u001b[39;49m], request[\u001b[39m'\u001b[39;49m\u001b[39mbody\u001b[39;49m\u001b[39m'\u001b[39;49m])\n",
      "File \u001b[1;32mc:\\Users\\prama\\Desktop\\tradingbot\\.conda\\lib\\site-packages\\ccxt\\base\\exchange.py:616\u001b[0m, in \u001b[0;36mExchange.fetch\u001b[1;34m(self, url, method, headers, body)\u001b[0m\n\u001b[0;32m    614\u001b[0m \u001b[39mexcept\u001b[39;00m HTTPError \u001b[39mas\u001b[39;00m e:\n\u001b[0;32m    615\u001b[0m     details \u001b[39m=\u001b[39m \u001b[39m'\u001b[39m\u001b[39m \u001b[39m\u001b[39m'\u001b[39m\u001b[39m.\u001b[39mjoin([\u001b[39mself\u001b[39m\u001b[39m.\u001b[39mid, method, url])\n\u001b[1;32m--> 616\u001b[0m     skip_further_error_handling \u001b[39m=\u001b[39m \u001b[39mself\u001b[39;49m\u001b[39m.\u001b[39;49mhandle_errors(http_status_code, http_status_text, url, method, headers, http_response, json_response, request_headers, request_body)\n\u001b[0;32m    617\u001b[0m     \u001b[39mif\u001b[39;00m \u001b[39mnot\u001b[39;00m skip_further_error_handling:\n\u001b[0;32m    618\u001b[0m         \u001b[39mself\u001b[39m\u001b[39m.\u001b[39mhandle_http_status_code(http_status_code, http_status_text, url, method, http_response)\n",
      "File \u001b[1;32mc:\\Users\\prama\\Desktop\\tradingbot\\.conda\\lib\\site-packages\\ccxt\\binance.py:7452\u001b[0m, in \u001b[0;36mbinance.handle_errors\u001b[1;34m(self, code, reason, url, method, headers, body, response, requestHeaders, requestBody)\u001b[0m\n\u001b[0;32m   7445\u001b[0m     \u001b[39mif\u001b[39;00m message \u001b[39m==\u001b[39m \u001b[39m'\u001b[39m\u001b[39mNo need to change margin type.\u001b[39m\u001b[39m'\u001b[39m:\n\u001b[0;32m   7446\u001b[0m         \u001b[39m# not an error\u001b[39;00m\n\u001b[0;32m   7447\u001b[0m         \u001b[39m# https://github.com/ccxt/ccxt/issues/11268\u001b[39;00m\n\u001b[0;32m   7448\u001b[0m         \u001b[39m# https://github.com/ccxt/ccxt/pull/11624\u001b[39;00m\n\u001b[0;32m   7449\u001b[0m         \u001b[39m# POST https://fapi.binance.com/fapi/v1/marginType 400 Bad Request\u001b[39;00m\n\u001b[0;32m   7450\u001b[0m         \u001b[39m# binanceusdm {\"code\":-4046,\"msg\":\"No need to change margin type.\"}\u001b[39;00m\n\u001b[0;32m   7451\u001b[0m         \u001b[39mraise\u001b[39;00m MarginModeAlreadySet(feedback)\n\u001b[1;32m-> 7452\u001b[0m     \u001b[39mself\u001b[39;49m\u001b[39m.\u001b[39;49mthrow_exactly_matched_exception(\u001b[39mself\u001b[39;49m\u001b[39m.\u001b[39;49mexceptions[\u001b[39m'\u001b[39;49m\u001b[39mexact\u001b[39;49m\u001b[39m'\u001b[39;49m], error, feedback)\n\u001b[0;32m   7453\u001b[0m     \u001b[39mraise\u001b[39;00m ExchangeError(feedback)\n\u001b[0;32m   7454\u001b[0m \u001b[39mif\u001b[39;00m \u001b[39mnot\u001b[39;00m success:\n",
      "File \u001b[1;32mc:\\Users\\prama\\Desktop\\tradingbot\\.conda\\lib\\site-packages\\ccxt\\base\\exchange.py:3348\u001b[0m, in \u001b[0;36mExchange.throw_exactly_matched_exception\u001b[1;34m(self, exact, string, message)\u001b[0m\n\u001b[0;32m   3346\u001b[0m \u001b[39mdef\u001b[39;00m \u001b[39mthrow_exactly_matched_exception\u001b[39m(\u001b[39mself\u001b[39m, exact, string, message):\n\u001b[0;32m   3347\u001b[0m     \u001b[39mif\u001b[39;00m string \u001b[39min\u001b[39;00m exact:\n\u001b[1;32m-> 3348\u001b[0m         \u001b[39mraise\u001b[39;00m exact[string](message)\n",
      "\u001b[1;31mAuthenticationError\u001b[0m: binance {\"code\":-2015,\"msg\":\"Invalid API-key, IP, or permissions for action.\"}"
     ]
    }
   ],
   "source": [
    "exchange.fetchBalance()[\"info\"][\"assets\"]"
   ]
  },
  {
   "cell_type": "code",
   "execution_count": null,
   "metadata": {},
   "outputs": [],
   "source": [
    "trader.start_trading(start = None, hist_bars = 10)"
   ]
  },
  {
   "cell_type": "code",
   "execution_count": null,
   "metadata": {},
   "outputs": [],
   "source": [
    "trader.stop_stream()"
   ]
  },
  {
   "cell_type": "code",
   "execution_count": null,
   "metadata": {},
   "outputs": [],
   "source": [
    "trader.prepared_data"
   ]
  },
  {
   "cell_type": "code",
   "execution_count": null,
   "metadata": {},
   "outputs": [],
   "source": [
    "exchange.fetchBalance()[\"info\"][\"assets\"] # get asset balances"
   ]
  }
 ],
 "metadata": {
  "kernelspec": {
   "display_name": "Python 3",
   "language": "python",
   "name": "python3"
  },
  "language_info": {
   "codemirror_mode": {
    "name": "ipython",
    "version": 3
   },
   "file_extension": ".py",
   "mimetype": "text/x-python",
   "name": "python",
   "nbconvert_exporter": "python",
   "pygments_lexer": "ipython3",
   "version": "3.9.17"
  },
  "orig_nbformat": 4
 },
 "nbformat": 4,
 "nbformat_minor": 2
}
